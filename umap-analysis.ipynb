{
 "cells": [
  {
   "cell_type": "code",
   "execution_count": null,
   "id": "a72005e2",
   "metadata": {},
   "outputs": [],
   "source": [
    "import os\n",
    "import sys\n",
    "import gzip\n",
    "import pickle\n",
    "\n",
    "import numpy as np\n",
    "import pandas as pd\n",
    "\n",
    "import matplotlib.pyplot as plt\n",
    "from matplotlib import cm\n",
    "from matplotlib.colors import Normalize \n",
    "from scipy.interpolate import interpn\n",
    "\n",
    "import seaborn as sns\n",
    "\n",
    "import umap\n",
    "import umap.plot\n",
    "\n",
    "from PIL import Image\n",
    "from io import BytesIO\n",
    "import base64\n",
    "\n",
    "from bokeh.plotting import figure, show, output_notebook\n",
    "from bokeh.models import HoverTool, ColumnDataSource, CategoricalColorMapper\n",
    "from bokeh.palettes import Spectral10, Spectral, Pastel2\n",
    "\n",
    "%load_ext autoreload\n",
    "%autoreload 2"
   ]
  },
  {
   "cell_type": "code",
   "execution_count": null,
   "id": "3c8697a3-c9bb-439a-9594-b7987d36e6c4",
   "metadata": {},
   "outputs": [],
   "source": [
    "# print out package versions for reproducibility\n",
    "# if you are having problems, make sure to use the same package versions\n",
    "# we used:\n",
    "# Python 3.7.10\n",
    "# np: 1.21.5 \n",
    "# pd: 1.3.5 \n",
    "# sns: 0.12.2 \n",
    "# umap: 0.5.3 \n",
    "# PIL: 9.3.0 \n",
    "# bokeh: 2.4.3 \n",
    "# matplotlib: 3.5.2\n",
    "\n",
    "import PIL\n",
    "import bokeh\n",
    "import matplotlib\n",
    "\n",
    "!python --version\n",
    "\n",
    "print(\n",
    "    f\"\\nnp: {np.__version__}\",\n",
    "    f\"\\npd: {pd.__version__}\",\n",
    "    f\"\\nsns: {sns.__version__}\",\n",
    "    f\"\\numap: {umap.__version__}\",\n",
    "    f\"\\nPIL: {PIL.__version__}\",\n",
    "    f\"\\nbokeh: {bokeh.__version__}\",\n",
    "    f\"\\nmatplotlib: {matplotlib.__version__}\",\n",
    " )"
   ]
  },
  {
   "cell_type": "markdown",
   "id": "97845c3c-a423-40b9-8a95-d39095cd5b21",
   "metadata": {},
   "source": [
    "### set path to recordings metadata and segmentation masks and load everything"
   ]
  },
  {
   "cell_type": "code",
   "execution_count": null,
   "id": "31404b2c-84d3-466e-9566-2e46e873a64e",
   "metadata": {},
   "outputs": [],
   "source": [
    "# set paths\n",
    "segmentation_masks_path = os.path.join(\".\", \"segmentation_masks.pkl\")\n",
    "recordings_metadata_path = os.path.join(\".\", \"recordings_metadata.pklz\")\n",
    "\n",
    "# load segmentation masks\n",
    "with gzip.open(segmentation_masks_path, 'rb') as fp:\n",
    "    segmentation_masks = pickle.load(fp)\n",
    "\n",
    "# load recordings metadata\n",
    "with gzip.open(recordings_metadata_path, 'rb') as fp:\n",
    "    recordings_metadata = pickle.load(fp)"
   ]
  },
  {
   "cell_type": "markdown",
   "id": "27b08699-cf2b-4f58-abbf-02f145685781",
   "metadata": {},
   "source": [
    "### pickle files contain data for the following groups"
   ]
  },
  {
   "cell_type": "code",
   "execution_count": null,
   "id": "cbb380d9-28c4-4bc8-82a8-e7724a0e1f08",
   "metadata": {},
   "outputs": [],
   "source": [
    "groups = [\n",
    "    \"reunion_ctrl\", # reunion control group\n",
    "    \"reunion_dq\", # reunion + hM3Dq group\n",
    "    \"sep_ctrl\", # separation control group\n",
    "    \"sep_dq\", # separation + hM3Dq group\n",
    "    \"opto_acr\", # optogenetic stGtACR2 group\n",
    "    \"opto_ctrl\", # optogenetic control group\n",
    "    \"reunion_kir\", # reunion + Kir2.1 group\n",
    "    \"reunion_kir_ctrl\", # reunion control group\n",
    "    \"sep_kir\", # separation + Kir2.1 group\n",
    "    \"sep_kir_ctrl\", # separation control group\n",
    "]"
   ]
  },
  {
   "cell_type": "markdown",
   "id": "b6c2120a-371b-4d89-acd0-7c38bfebc463",
   "metadata": {},
   "source": [
    "### plot sample segmentation masks"
   ]
  },
  {
   "cell_type": "code",
   "execution_count": null,
   "id": "3790c840-10f3-401d-932f-634a5606e03a",
   "metadata": {},
   "outputs": [],
   "source": [
    "fig, ax_array = plt.subplots(15, 15, dpi=150)\n",
    "axes = ax_array.flatten()\n",
    "for i, ax in enumerate(axes):\n",
    "    ax.imshow(segmentation_masks['reunion_ctrl'][i].reshape(256, 256), cmap='gray_r')\n",
    "plt.setp(axes, xticks=[], yticks=[], frame_on=False)\n",
    "plt.tight_layout(h_pad=0, w_pad=0)"
   ]
  },
  {
   "cell_type": "markdown",
   "id": "4f42a61d-32ac-4ff1-806c-1c8fae5b0443",
   "metadata": {},
   "source": [
    "### reformat data for UMAP analysis"
   ]
  },
  {
   "cell_type": "code",
   "execution_count": null,
   "id": "c3fb588d-de90-45f6-895d-e6b9b73b7451",
   "metadata": {},
   "outputs": [],
   "source": [
    "# create label vector for plotting purposes\n",
    "# each group is associated with a unique number\n",
    "\n",
    "targets = np.hstack(\n",
    "    [\n",
    "        np.repeat(1, segmentation_masks[\"reunion_ctrl\"].shape[0]),\n",
    "        np.repeat(2, segmentation_masks[\"reunion_dq\"].shape[0]),\n",
    "        np.repeat(3, segmentation_masks[\"sep_ctrl\"].shape[0]),\n",
    "        np.repeat(4, segmentation_masks[\"sep_dq\"].shape[0]),\n",
    "        np.repeat(5, segmentation_masks[\"opto_acr\"].shape[0]),\n",
    "        np.repeat(6, segmentation_masks[\"opto_ctrl\"].shape[0]),\n",
    "        np.repeat(7, segmentation_masks[\"reunion_kir\"].shape[0]),\n",
    "        np.repeat(8, segmentation_masks[\"reunion_kir_ctrl\"].shape[0]),\n",
    "        np.repeat(9, segmentation_masks[\"sep_kir\"].shape[0]),\n",
    "        np.repeat(10, segmentation_masks[\"sep_kir_ctrl\"].shape[0]),\n",
    "    ]\n",
    ")\n",
    "target_ids = np.asarray([1, 2, 3, 4, 5, 6, 7, 8, 9, 10]) # combine datasets into a single vector to run UMAP\n",
    "\n",
    "\n",
    "# flatten all segmentation masks into one array\n",
    "segmentation_masks = np.vstack(\n",
    "    [\n",
    "        segmentation_masks[\"reunion_ctrl\"],\n",
    "        segmentation_masks[\"reunion_dq\"],\n",
    "        segmentation_masks[\"sep_ctrl\"],\n",
    "        segmentation_masks[\"sep_dq\"],\n",
    "        segmentation_masks[\"opto_acr\"],\n",
    "        segmentation_masks[\"opto_ctrl\"],\n",
    "        segmentation_masks[\"reunion_kir\"],\n",
    "        segmentation_masks[\"reunion_kir_ctrl\"],\n",
    "        segmentation_masks[\"sep_kir\"],\n",
    "        segmentation_masks[\"sep_kir_ctrl\"],\n",
    "    ]\n",
    ")\n",
    "\n",
    "# combine all classes into a single vector for plotting purposes\n",
    "classes_vector = []\n",
    "for idx, group in enumerate(groups):\n",
    "    group_vector = []\n",
    "    this_data = recordings_metadata[0][group]\n",
    "    print(f\"\\ngroup {group}: there are {len(this_data)} recordings\")\n",
    "    for recording_data in this_data:\n",
    "        this_rec_classes = recording_data['Class'].loc[recording_data['Class'] != 'noise_dist']\n",
    "        group_vector.append(this_rec_classes)\n",
    "\n",
    "    group_vector = np.hstack(group_vector)\n",
    "    print(f\"there are are {len(group_vector)} vocals in group {group}\")\n",
    "    classes_vector.append(group_vector)\n",
    "\n",
    "classes_vector = np.hstack(classes_vector)\n",
    "classes_names, classes_categorical = np.unique(classes_vector, return_inverse=True)\n",
    "print(f\"\\n\\nthere are are {len(classes_vector)} vocals in the dataset\")\n",
    "print(f\"missing {segmentation_masks.shape[0]-len(classes_vector)} vocals\")"
   ]
  },
  {
   "cell_type": "markdown",
   "id": "1f7406df-5749-44c9-b15c-c63a6c833c58",
   "metadata": {},
   "source": [
    "### load pre-trained UMAP model"
   ]
  },
  {
   "cell_type": "code",
   "execution_count": null,
   "id": "41614950-fe1b-438c-84e6-d8440d706b2b",
   "metadata": {},
   "outputs": [],
   "source": [
    "# load UMAP from previous run\n",
    "# or run UMAP again using the next cell\n",
    "umap_model_path = os.path.join(\".\", \"umap_model.pklz\")\n",
    "    \n",
    "# load umap model\n",
    "with gzip.open(umap_model_path, 'rb') as fp:\n",
    "    umap_model = pickle.load(fp)"
   ]
  },
  {
   "cell_type": "markdown",
   "id": "bc10dde2-9096-4c13-b257-a92f1c4d8b4a",
   "metadata": {},
   "source": [
    "### run UMAP!"
   ]
  },
  {
   "cell_type": "code",
   "execution_count": null,
   "id": "901446c8-ab1f-498b-bc8e-575ef4de80c0",
   "metadata": {},
   "outputs": [],
   "source": [
    "# UMAP possible set of parameters\n",
    "# umap.UMAP(a=None, angular_rp_forest=False, b=None,\n",
    "#      force_approximation_algorithm=False, init='spectral', learning_rate=1.0,\n",
    "#      local_connectivity=1.0, low_memory=False, metric='euclidean',\n",
    "#      metric_kwds=None, min_dist=0.1, n_components=2, n_epochs=None,\n",
    "#      n_neighbors=15, negative_sample_rate=5, output_metric='euclidean',\n",
    "#      output_metric_kwds=None, random_state=42, repulsion_strength=1.0,\n",
    "#      set_op_mix_ratio=1.0, spread=1.0, target_metric='categorical',\n",
    "#      target_metric_kwds=None, target_n_neighbors=-1, target_weight=0.5,\n",
    "#      transform_queue_size=4.0, transform_seed=42, unique=False, verbose=False)\n",
    "\n",
    "\n",
    "# uncomment the last two lines to run a new UMAP model or skip ahead to load a previous model\n",
    "# if your session is getting killed because of memory errors use low_memory=True\n",
    "# runs a bit slower but will not crash\n",
    "\n",
    "# umap_model = umap.UMAP(metric='dice', n_components=2, n_neighbors=25, low_memory=False)\n",
    "# umap_model.fit(segmentation_masks)"
   ]
  },
  {
   "cell_type": "markdown",
   "id": "df1eeda7-c68c-4a6d-8dfb-ac877abee022",
   "metadata": {},
   "source": [
    "### (optional) save your new UMAP model"
   ]
  },
  {
   "cell_type": "code",
   "execution_count": null,
   "id": "0f7007fb-1347-4e96-bedf-95b5326d4909",
   "metadata": {},
   "outputs": [],
   "source": [
    "# save UMAP model so you can just load it next time\n",
    "# be careful not to overwrite previous models\n",
    "# model_name = \"new_umap_model.pklz\"\n",
    "\n",
    "# # save UMAP model\n",
    "# with gzip.GzipFile(model_path, 'wb') as fp:\n",
    "#     pickle.dump(umap_model, fp, protocol=4)"
   ]
  },
  {
   "cell_type": "markdown",
   "id": "0abe0294-4968-443d-ac27-d3614eb0740f",
   "metadata": {},
   "source": [
    "### project data using UMAP"
   ]
  },
  {
   "cell_type": "code",
   "execution_count": null,
   "id": "1b18f72a-1378-4704-aece-e3285dc5ab7c",
   "metadata": {},
   "outputs": [],
   "source": [
    "# use UMAP model to create embedding\n",
    "embedding = umap_model.transform(segmentation_masks)"
   ]
  },
  {
   "cell_type": "markdown",
   "id": "cf56c78e-c1be-4860-a386-04f048ace483",
   "metadata": {},
   "source": [
    "### prepare data and plot!"
   ]
  },
  {
   "cell_type": "code",
   "execution_count": null,
   "id": "f391eb8b-83ee-42f3-98bb-be952f522822",
   "metadata": {},
   "outputs": [],
   "source": [
    "# create pandas dataframe for plotting purposes\n",
    "\n",
    "column_values = ['x', 'y', 'group']\n",
    "df = pd.DataFrame(data=list(zip(\n",
    "                    embedding[:,0],\n",
    "                    embedding[:,1],\n",
    "                    targets\n",
    "                    )),\n",
    "                  columns = column_values)\n",
    "\n",
    "# artificially move UMAP embeddings to plot density maps side-by-side\n",
    "df2 = df.copy()\n",
    "df2.loc[df2['group'] == 2, 'x'] = df2.loc[df2['group'] == 2, 'x'] + 25 * 1\n",
    "df2.loc[df2['group'] == 3, 'x'] = df2.loc[df2['group'] == 3, 'x'] + 25 * 2\n",
    "df2.loc[df2['group'] == 4, 'x'] = df2.loc[df2['group'] == 4, 'x'] + 25 * 3\n",
    "df2.loc[df2['group'] == 5, 'x'] = df2.loc[df2['group'] == 5, 'x'] + 25 * 4\n",
    "\n",
    "df2.loc[df2['group'] == 6, 'x'] = df2.loc[df2['group'] == 6, 'x']\n",
    "df2.loc[df2['group'] == 7, 'x'] = df2.loc[df2['group'] == 7, 'x'] + 25 * 1\n",
    "df2.loc[df2['group'] == 8, 'x'] = df2.loc[df2['group'] == 8, 'x'] + 25 * 2\n",
    "df2.loc[df2['group'] == 9, 'x'] = df2.loc[df2['group'] == 9, 'x'] + 25 * 3\n",
    "df2.loc[df2['group'] == 10, 'x'] = df2.loc[df2['group'] == 10, 'x'] + 25 * 4\n",
    "df2.loc[df2['group'] == 6, 'y'] = df2.loc[df2['group'] == 6, 'y'] - 15\n",
    "df2.loc[df2['group'] == 7, 'y'] = df2.loc[df2['group'] == 7, 'y'] - 15\n",
    "df2.loc[df2['group'] == 8, 'y'] = df2.loc[df2['group'] == 8, 'y'] - 15\n",
    "df2.loc[df2['group'] == 9, 'y'] = df2.loc[df2['group'] == 9, 'y'] - 15\n",
    "df2.loc[df2['group'] == 10, 'y'] = df2.loc[df2['group'] == 10, 'y'] - 15"
   ]
  },
  {
   "cell_type": "markdown",
   "id": "801b79ab-6fb5-4ce6-94f3-6597c2edfd4f",
   "metadata": {},
   "source": [
    "### plot density maps by group"
   ]
  },
  {
   "cell_type": "code",
   "execution_count": null,
   "id": "362893c8-e8cd-482a-8e11-c10fd3e99341",
   "metadata": {},
   "outputs": [],
   "source": [
    "print(f\"plotting for groups (clockwise): {groups}\")\n",
    "\n",
    "def density_scatter(x, y, fig=None, ax=None, sort=True, bins=20, **kwargs):\n",
    "    \"\"\"\n",
    "    Scatter plot colored by 2d histogram\n",
    "    \"\"\"\n",
    "    if ax is None :\n",
    "        fig , ax = plt.subplots(dpi=300)\n",
    "    data, x_e, y_e = np.histogram2d(x, y, bins=bins, density=True)\n",
    "    z = interpn((0.5*(x_e[1:] + x_e[:-1]),\n",
    "                 0.5*(y_e[1:]+y_e[:-1])),\n",
    "                data,\n",
    "                np.vstack([x,y]).T,\n",
    "                method=\"splinef2d\",\n",
    "                bounds_error=False)\n",
    "\n",
    "    # to be sure to plot all data\n",
    "    z[np.where(np.isnan(z))] = 0.0\n",
    "\n",
    "    # sort the points by density, so that the densest points are plotted last\n",
    "    if sort :\n",
    "        idx = z.argsort()\n",
    "        x, y, z = x[idx], y[idx], z[idx]\n",
    "\n",
    "    ax.scatter(x, y, s=0.1, edgecolors='none', c=z, **kwargs )\n",
    "\n",
    "    norm = Normalize(vmin = np.min(z), vmax = np.max(z))\n",
    "    cbar = fig.colorbar(cm.ScalarMappable(norm = norm), ax=ax)\n",
    "    cbar.ax.set_ylabel('Density')\n",
    "\n",
    "    return ax\n",
    "\n",
    "# plot with raw points\n",
    "fig , ax = plt.subplots(figsize=(5, 2), dpi=150)\n",
    "density_scatter(df2[np.isfinite(df2['x'])]['x'].to_numpy(),\n",
    "                df2[np.isfinite(df2['y'])]['y'].to_numpy(),\n",
    "                fig=fig,\n",
    "                ax=ax,\n",
    "                bins=[40, 40])\n",
    "plt.xlim([-5, 120])\n",
    "plt.ylim([-20, 15])\n",
    "plt.tight_layout()\n",
    "plt.show()"
   ]
  },
  {
   "cell_type": "code",
   "execution_count": null,
   "id": "9a7c819a-634e-4526-b112-121e8f671956",
   "metadata": {},
   "outputs": [],
   "source": [
    "# plot KDEs only\n",
    "fig, ax = plt.subplots(figsize=(5,2), dpi=175)\n",
    "sns.kdeplot(data=df2, x='x', y='y', hue='group',\n",
    "            levels=6, fill=True,\n",
    "            alpha=1)\n",
    "plt.legend([])\n",
    "plt.show()"
   ]
  },
  {
   "cell_type": "markdown",
   "id": "4133e875-dbd1-4426-b029-0b895e0bc184",
   "metadata": {},
   "source": [
    "### plot UMAP embeddings"
   ]
  },
  {
   "cell_type": "code",
   "execution_count": null,
   "id": "de25e34f-1be9-4b3e-9a03-3b23fed5c4b2",
   "metadata": {},
   "outputs": [],
   "source": [
    "# plot UMAP embedding by group\n",
    "\n",
    "fig = plt.figure(dpi=175)\n",
    "plt.scatter(embedding[:, 0], embedding[:, 1], c=targets, cmap='Spectral', s=1, alpha=0.05)\n",
    "plt.gca().set_aspect('equal', 'datalim')\n",
    "cbar = plt.colorbar(boundaries=np.arange(len(groups)+1)+0.5)\n",
    "cbar.set_alpha(1)\n",
    "cbar.draw_all()\n",
    "cbar.set_ticks(np.arange(len(groups))+1)\n",
    "cbar.set_ticklabels(groups)\n",
    "plt.title('UMAP all groups', fontsize=12);\n",
    "plt.xlim([-2, 15])\n",
    "plt.ylim([-4, 12])\n",
    "plt.show()"
   ]
  },
  {
   "cell_type": "code",
   "execution_count": null,
   "id": "db1792cf-95b3-45a6-99d8-0de87602c8d1",
   "metadata": {},
   "outputs": [],
   "source": [
    "# plot UMAP embedding by vocal class\n",
    "\n",
    "fig = plt.figure(dpi=175)\n",
    "plt.scatter(embedding[:, 0], embedding[:, 1], c=classes_categorical+1, cmap='tab20', s=1, alpha=0.05)\n",
    "plt.gca().set_aspect('equal', 'datalim')\n",
    "cbar = plt.colorbar(boundaries=np.arange(len(classes_names)+1)+0.5)\n",
    "cbar.set_alpha(1)\n",
    "cbar.draw_all()\n",
    "cbar.set_ticks(np.arange(len(classes_names))+1)\n",
    "cbar.set_ticklabels(classes_names)\n",
    "plt.title('UMAP all groups', fontsize=12);\n",
    "plt.xlim([-2, 15])\n",
    "plt.ylim([-4, 12])\n",
    "plt.show()"
   ]
  },
  {
   "cell_type": "code",
   "execution_count": null,
   "id": "30c307df-a975-4a04-be48-20ce818da4bf",
   "metadata": {
    "scrolled": true,
    "tags": []
   },
   "outputs": [],
   "source": [
    "# plot UMAP embedding by vocal class per group\n",
    "\n",
    "for gid in target_ids:\n",
    "    \n",
    "    this_target = (targets == gid)\n",
    "    print(sum(this_target))\n",
    "    fig = plt.figure(dpi=175)\n",
    "    plt.scatter(embedding[this_target, 0],\n",
    "                embedding[this_target, 1],\n",
    "                c=classes_categorical[this_target]+1,\n",
    "                cmap='tab20',\n",
    "                s=1,\n",
    "                alpha=0.25)\n",
    "    plt.gca().set_aspect('equal', 'datalim')\n",
    "    cbar = plt.colorbar(boundaries=np.arange(len(classes_names)+1)+0.5)\n",
    "    cbar.set_alpha(1)\n",
    "    cbar.draw_all()\n",
    "    cbar.set_ticks(np.arange(len(classes_names))+1)\n",
    "    cbar.set_ticklabels(classes_names)\n",
    "    plt.title(f'{groups[gid-1]}; n={sum(this_target)}', fontsize=12);\n",
    "    plt.xlim([-2, 15])\n",
    "    plt.ylim([-4, 12])\n",
    "    plt.show() "
   ]
  },
  {
   "cell_type": "code",
   "execution_count": null,
   "id": "4876c603-9b87-4222-a5fc-760dfc70023a",
   "metadata": {
    "scrolled": true,
    "tags": []
   },
   "outputs": [],
   "source": [
    "# plot UMAP embedding by group per vocal class\n",
    "\n",
    "for gid in np.unique(classes_categorical):\n",
    "\n",
    "    this_target = (classes_categorical == gid)\n",
    "    print(f\"data points: {sum(this_target)}\")\n",
    "    this_ddt = np.unique(targets[this_target], return_counts=True)\n",
    "    ggs = [groups[aa-1] for aa in this_ddt[0]]\n",
    "    print(f\"by groups: {list(zip(ggs, this_ddt[1]))};\")\n",
    "    fig = plt.figure(dpi=175)\n",
    "    plt.scatter(embedding[this_target, 0],\n",
    "                embedding[this_target, 1],\n",
    "                c=targets[this_target],\n",
    "                cmap='Spectral',\n",
    "                s=1,\n",
    "                alpha=0.25)\n",
    "    plt.gca().set_aspect('equal', 'datalim')\n",
    "    cbar = plt.colorbar(boundaries=np.arange(len(ggs)+1)+0.5)\n",
    "    cbar.set_alpha(1)\n",
    "    cbar.draw_all()\n",
    "    cbar.set_ticks(np.arange(len(ggs))+1)\n",
    "    cbar.set_ticklabels(ggs)\n",
    "    plt.title(f'{classes_names[gid]}; n={sum(this_target)}', fontsize=12);\n",
    "    plt.xlim([-2, 15])\n",
    "    plt.ylim([-4, 12])\n",
    "    plt.show()"
   ]
  },
  {
   "cell_type": "markdown",
   "id": "c4456548-e840-4e15-a02a-eef3b19d0040",
   "metadata": {},
   "source": [
    "### plot interactive UMAP embedding"
   ]
  },
  {
   "cell_type": "code",
   "execution_count": null,
   "id": "5fe684da-e4a8-4d7f-8974-143740e792ad",
   "metadata": {},
   "outputs": [],
   "source": [
    "# plot interactive UMAP embedding\n",
    "# hover over dots to see spectrogram\n",
    "\n",
    "def embeddable_image(data):\n",
    "    img_data = 255 - 15 * data.astype(np.uint8)\n",
    "    img_data = img_data.reshape((256,256))\n",
    "    image = Image.fromarray(img_data, mode='L').resize((64, 64), resample=Image.BICUBIC)\n",
    "    buffer = BytesIO()\n",
    "    image.save(buffer, format='png')\n",
    "    for_encoding = buffer.getvalue()\n",
    "    return 'data:image/png;base64,' + base64.b64encode(for_encoding).decode()\n",
    "\n",
    "output_notebook()\n",
    "bokeh_df = pd.DataFrame(embedding, columns=('x', 'y'))\n",
    "bokeh_df['groups'] = [groups[x-1] for x in targets]\n",
    "bokeh_df['image'] = list(map(embeddable_image, segmentation_masks))\n",
    "\n",
    "datasource = ColumnDataSource(bokeh_df)\n",
    "color_mapping = CategoricalColorMapper(factors=groups, palette=np.flip(Spectral10))\n",
    "\n",
    "plot_figure = figure(\n",
    "    title='UMAP projection',\n",
    "    plot_width=800,\n",
    "    plot_height=800,\n",
    "    tools=('pan, wheel_zoom, reset')\n",
    ")\n",
    "\n",
    "plot_figure.add_tools(HoverTool(tooltips=\"\"\"\n",
    "<div>\n",
    "    <div>\n",
    "        <img src='@image' style='float: left; margin: 5px 5px 5px 5px'/>\n",
    "    </div>\n",
    "    <div>\n",
    "        <span style='font-size: 8px; color: #224499'>Group:</span>\n",
    "        <span style='font-size: 9px'>@groups</span>\n",
    "    </div>\n",
    "</div>\n",
    "\"\"\"))\n",
    "\n",
    "plot_figure.circle(\n",
    "    'x',\n",
    "    'y',\n",
    "    source=datasource,\n",
    "    color=dict(field='groups', transform=color_mapping),\n",
    "    line_alpha=0.1,\n",
    "    fill_alpha=0.1,\n",
    "    size=2\n",
    ")\n",
    "show(plot_figure)"
   ]
  }
 ],
 "metadata": {
  "kernelspec": {
   "display_name": "Python 3 (ipykernel)",
   "language": "python",
   "name": "python3"
  },
  "language_info": {
   "codemirror_mode": {
    "name": "ipython",
    "version": 3
   },
   "file_extension": ".py",
   "mimetype": "text/x-python",
   "name": "python",
   "nbconvert_exporter": "python",
   "pygments_lexer": "ipython3",
   "version": "3.7.10"
  }
 },
 "nbformat": 4,
 "nbformat_minor": 5
}
