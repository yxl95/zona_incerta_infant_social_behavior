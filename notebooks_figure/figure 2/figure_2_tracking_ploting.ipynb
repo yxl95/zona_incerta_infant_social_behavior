{
 "cells": [
  {
   "cell_type": "code",
   "execution_count": null,
   "id": "632f57a0",
   "metadata": {},
   "outputs": [],
   "source": [
    "# install ezTrack following the instructions from the developer \n",
    "# https://github.com/denisecailab/ezTrack/wiki/Installation\n",
    "# adapted from :\n",
    "#Pennington ZT, Dong Z, Feng Y, Vetere LM, Page-Harley L, Shuman T, Cai DJ (2019). \n",
    "#ezTrack: An open-source video analysis pipeline for the investigation of animal behavior. Scientific Reports: 9(1): 19979"
   ]
  },
  {
   "cell_type": "code",
   "execution_count": null,
   "id": "5304309b",
   "metadata": {},
   "outputs": [],
   "source": [
    "%load_ext autoreload\n",
    "%autoreload 2\n",
    "import os\n",
    "import holoviews as hv\n",
    "import numpy as np\n",
    "import pandas as pd\n",
    "import LocationTracking_Functions as lt\n",
    "import cv2 # to calculate frame rate (mod)\n",
    "import matplotlib.pyplot as plt"
   ]
  },
  {
   "cell_type": "code",
   "execution_count": null,
   "id": "45cf9091",
   "metadata": {},
   "outputs": [],
   "source": [
    "video_dict = { \n",
    "    'dpath'        :  (\"folder\"),    \n",
    "    'file'         : '8919-alley-dam-125-145.avi',\n",
    "    'start'        : 2380, \n",
    "    'end'          : 4814, \n",
    "    'region_names' : None,\n",
    "    'dsmpl'        : 1,\n",
    "    'stretch'      : dict(width=1, height=1)\n",
    "}"
   ]
  },
  {
   "cell_type": "code",
   "execution_count": null,
   "id": "c1d2528d",
   "metadata": {},
   "outputs": [],
   "source": [
    "# Construct the full path to the video file\n",
    "full_path = video_dict['dpath'] + video_dict['file']\n",
    "print(repr(full_path))\n",
    "\n",
    "# Open the video file\n",
    "video = cv2.VideoCapture(full_path)\n",
    "\n",
    "# Check if the video was successfully opened\n",
    "if video.isOpened():\n",
    "    # Get the frame rate\n",
    "    fps = video.get(cv2.CAP_PROP_FPS)\n",
    "    print(f\"The frame rate is: {fps} FPS\")\n",
    "else:\n",
    "    print(\"Error: Could not open video.\")\n",
    "\n",
    "# Release the video capture object\n",
    "video.release()"
   ]
  },
  {
   "cell_type": "code",
   "execution_count": null,
   "id": "20730fae",
   "metadata": {},
   "outputs": [],
   "source": [
    "#100 is the standard size. 200 will produce an image 2x the size, and so on.\n",
    "%%output size = 150 \n",
    "\n",
    "img_crp, video_dict = lt.LoadAndCrop(video_dict, cropmethod='Box')\n",
    "img_crp"
   ]
  },
  {
   "cell_type": "code",
   "execution_count": null,
   "id": "b6b612d6",
   "metadata": {},
   "outputs": [],
   "source": [
    "#Define Reference Frame for Location Tracking\n",
    "\n",
    "%%output size = 100\n",
    "\n",
    "video_dict['altfile'] = 'EmptyBox.avi' \n",
    "\n",
    "video_dict['reference'], img_ref = lt.Reference(video_dict, num_frames=50, altfile=True, frames=[0]) \n",
    "img_ref"
   ]
  },
  {
   "cell_type": "code",
   "execution_count": null,
   "id": "a64713b8",
   "metadata": {},
   "outputs": [],
   "source": [
    "# Define real-world distance between points\n",
    "\n",
    "distance = 10 #set the width of the linear track as 10 cm\n",
    "scale = 'cm'\n",
    "\n",
    "video_dict['scale'] = lt.setScale(distance, scale, video_dict['scale'])\n",
    "\n",
    "print(video_dict['scale'])\n",
    "\n",
    "# Calculate pixels per cm\n",
    "pixels_per_cm = video_dict['scale']['px_distance'] / video_dict['scale']['true_distance']\n",
    "\n",
    "# Print the result\n",
    "print(f\"Pixels per cm: {pixels_per_cm}\")"
   ]
  },
  {
   "cell_type": "code",
   "execution_count": null,
   "id": "32f9088d",
   "metadata": {},
   "outputs": [],
   "source": [
    "# Set Location Tracking Parameters\n",
    "tracking_params = {\n",
    "    'loc_thresh'    : 99.5, \n",
    "    'use_window'    : True, \n",
    "    'window_size'   : 100, \n",
    "    'window_weight' : .9, \n",
    "    'method'        : 'dark',\n",
    "    'rmv_wire'      : True, \n",
    "    'wire_krn'      : 5\n",
    "}"
   ]
  },
  {
   "cell_type": "code",
   "execution_count": null,
   "id": "05ee4bf2",
   "metadata": {},
   "outputs": [],
   "source": [
    "#Track Location and Save Results to .csv File\n",
    "location = lt.TrackLocation(video_dict, tracking_params)   \n",
    "location.to_csv(os.path.splitext(video_dict['fpath'])[0] + '_LocationOutput.csv', index=False)\n",
    "location.head()"
   ]
  },
  {
   "cell_type": "code",
   "execution_count": null,
   "id": "22bb17d3",
   "metadata": {},
   "outputs": [],
   "source": [
    "#import z-score file\n",
    "z_scores = pd.read_excel(\"\")\n",
    "specific_time_points = [125, 146.7]  # Add or remove time points as needed"
   ]
  },
  {
   "cell_type": "code",
   "execution_count": null,
   "id": "b9fee073",
   "metadata": {},
   "outputs": [],
   "source": [
    "# Create the main figure 2G\n",
    "fig, ax1 = plt.subplots(figsize=(10, 6))\n",
    "\n",
    "# Plot Z-Score vs. Time_aligned on the main axis using adjusted_data\n",
    "ax1.plot(z_scores['Time_aligned'], z_scores['Z-Score'], label='Z-Score', color='blue')\n",
    "ax1.set_xlabel('Time_aligned')\n",
    "ax1.set_ylabel('Z-Score')\n",
    "ax1.set_title('Z-Score vs. Time')\n",
    "ax1.grid(True)\n",
    "\n",
    "# Add a thicker line at Time_aligned is zero\n",
    "ax1.axvline(x=0, color='red', linestyle='--', linewidth=2, label='Time_aligned=0')\n",
    "\n",
    "# Create a second x-axis at the top that shares the same y-axis\n",
    "ax2 = ax1.twiny()\n",
    "\n",
    "# Set the tick positions and labels for the second x-axis to represent Time_original\n",
    "ax2.set_xlim(ax1.get_xlim())\n",
    "ax2.set_xlabel('Time_original')\n",
    "\n",
    "# Add thicker lines for specific time points in Time_original\n",
    "for time_point in specific_time_points:\n",
    "    # Add a vertical line at this Time_aligned position\n",
    "    ax1.axvline(x= time_point color='green', linestyle='--', linewidth=2, label=f'Time_original={time_point}')\n",
    "\n",
    "# Adjust the legend to include the newly added lines\n",
    "ax1.legend()\n",
    "\n",
    "# Show the plot\n",
    "plt.show()"
   ]
  },
  {
   "cell_type": "code",
   "execution_count": null,
   "id": "40309be4",
   "metadata": {},
   "outputs": [],
   "source": [
    "# Create the main figure 2F\n",
    "\n",
    "location = pd.read_csv('LocationOutput.csv')\n",
    "\n",
    "X = location['X'];\n",
    "Y = location['Y'];\n",
    "Z = z_scores['Z-Score']\n",
    "\n",
    "# Slicing from index 100 to 600\n",
    "X = X[99:600]  \n",
    "Y = Y[99:600]\n",
    "Z = Z[99:600]\n",
    "\n",
    "# Scatter plot with colormap\n",
    "plt.scatter(X, Y, s=200, c=Z, cmap='viridis', alpha=0.5)  # 's' specifies marker size\n",
    "plt.colorbar()  # Add colorbar\n",
    "\n",
    "# Set the limits of the colormap\n",
    "plt.clim(0, 5)  \n",
    "\n",
    "# Add points (gate opening, first touch)\n",
    "# plt.scatter(X[100], Y[100], s=300, c=\"red\")\n",
    "# plt.scatter(X[440], Y[440], s=300, c=\"red\")\n",
    "\n",
    "# Set the axes limits\n",
    "plt.xlim(0, 600)  # Set X-axis limits\n",
    "plt.ylim(0, 200)  # Set Y-axis limits\n",
    "\n",
    "# Ensure the axes maintain the same scale\n",
    "plt.axis('equal')\n",
    "\n",
    "plt.show()"
   ]
  }
 ],
 "metadata": {
  "kernelspec": {
   "display_name": "Python 3 (ipykernel)",
   "language": "python",
   "name": "python3"
  },
  "language_info": {
   "codemirror_mode": {
    "name": "ipython",
    "version": 3
   },
   "file_extension": ".py",
   "mimetype": "text/x-python",
   "name": "python",
   "nbconvert_exporter": "python",
   "pygments_lexer": "ipython3",
   "version": "3.9.7"
  }
 },
 "nbformat": 4,
 "nbformat_minor": 5
}
